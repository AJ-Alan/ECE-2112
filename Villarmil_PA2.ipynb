{
 "cells": [
  {
   "cell_type": "markdown",
   "metadata": {},
   "source": [
    "# Programming Assignment 2: Numerical Python (Numpy)\n",
    "\n",
    "Villarmil, Arc Joseph C.\n",
    "\n",
    "2ECE-D"
   ]
  },
  {
   "cell_type": "code",
   "execution_count": 96,
   "metadata": {},
   "outputs": [],
   "source": [
    "import numpy as np #import numpy library"
   ]
  },
  {
   "cell_type": "markdown",
   "metadata": {},
   "source": [
    "**Normalization Problem**\n",
    "\n",
    "create a random 5 x 5 ndArray and normalize the array and save it"
   ]
  },
  {
   "cell_type": "code",
   "execution_count": null,
   "metadata": {},
   "outputs": [],
   "source": [
    "#create a random 5 x 5 ndArray named X\n",
    "X = np.random.random((5,5))\n",
    "#normalize the values of each and every value of the array\n",
    "Z = (X - X.mean())/(X.std())\n",
    "#save the array as a python file\n",
    "np.save('X_normalized',Z)\n",
    "#view the values of the arrays\n",
    "print(\"Array:\\n\",X,\"\\n\\nNormalized Array:\\n\",np.load('X_normalized.npy'))"
   ]
  },
  {
   "cell_type": "markdown",
   "metadata": {},
   "source": [
    "**Divisible by 3 Problem**\n",
    "\n",
    "create a 10 x 10 array of squared values from 1 - 100 and create a new array with all values that are divisible by 3"
   ]
  },
  {
   "cell_type": "code",
   "execution_count": null,
   "metadata": {},
   "outputs": [],
   "source": [
    "#create a base list for the values \n",
    "A = [1]\n",
    "#loop that will insert the squared values\n",
    "for x in range(2, 101): \n",
    "    A.append(x*x)\n",
    "#changes list into an 10 x 10 array\n",
    "A = np.array(A).reshape(10,10)\n",
    "#determines the elements that are divisible by 3\n",
    "Z = A[A%3==0]\n",
    "#save the array as a python file\n",
    "np.save('div_by_3',Z)\n",
    "#view the values of the arrays\n",
    "print(\"Array:\\n\",A,\"\\n\\nDivisible by 3 values from A:\\n\",np.load('div_by_3.npy'))"
   ]
  }
 ],
 "metadata": {
  "kernelspec": {
   "display_name": "Python 3 (ipykernel)",
   "language": "python",
   "name": "python3"
  },
  "language_info": {
   "codemirror_mode": {
    "name": "ipython",
    "version": 3
   },
   "file_extension": ".py",
   "mimetype": "text/x-python",
   "name": "python",
   "nbconvert_exporter": "python",
   "pygments_lexer": "ipython3",
   "version": "3.12.4"
  }
 },
 "nbformat": 4,
 "nbformat_minor": 4
}
