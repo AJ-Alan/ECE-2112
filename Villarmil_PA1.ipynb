{
 "cells": [
  {
   "cell_type": "markdown",
   "id": "4eb7f485-9676-4fc7-b480-1cf415771504",
   "metadata": {},
   "source": [
    "# Programming Assignment 1: Introduction to Python Programming\n",
    "\n",
    "Villarmil, Arc Joseph C.\n",
    "\n",
    "2ECE-D"
   ]
  },
  {
   "cell_type": "markdown",
   "id": "3f4b369a-06d8-4d85-8c43-b8cd8107a620",
   "metadata": {},
   "source": [
    "**Alphabet Soup Problem**"
   ]
  },
  {
   "cell_type": "code",
   "execution_count": null,
   "id": "ee43f18f-44fc-432b-92c3-e74a9feddca0",
   "metadata": {},
   "outputs": [],
   "source": [
    "#Create a function that takes a string and returns a string with its letters in alphabetical order\n",
    "\n",
    "def alphabet_soup(s): #define function \"alphabet_soup\" that sorts the letters of input string where the input is the variable s\n",
    "    s = list(s) #converts s into a list\n",
    "    s.sort() #sorts the list in alphabetical order\n",
    "    print(\"\".join(s)) #prints the function that converts the list back into a string\n",
    "    \n",
    "#starts main function\n",
    "s = str(input(\"\\nEmoticon converter\\nEnter a word:\")) #sets the variable s as a string input\n",
    "alphabet_soup(s) #calls function \"alphabet_soup\""
   ]
  },
  {
   "cell_type": "markdown",
   "id": "6780826f-f8a4-472b-8fc0-6a1b68912393",
   "metadata": {},
   "source": [
    "**Emoticon Problem**"
   ]
  },
  {
   "cell_type": "code",
   "execution_count": null,
   "id": "2b232b51-68a4-45b9-b4e1-6e00ff587150",
   "metadata": {},
   "outputs": [],
   "source": [
    "#Create a function that changes specific words into emoticons\n",
    "#Smile -> :) , Grin -> :D , Sad -> :(( , Mad -> >:(, lmao -> XD ##added lmao for me XD\n",
    "\n",
    "def emotify(s): #define function \"emotify\" that will find specific strings to change them into emoticons\n",
    "    s = s.split() #splits words in s into a list and re-equating to s\n",
    "    for x in s: #begins for loop to each specific words \n",
    "        chaEmo(s,\"smile\",\":)\") #the following calls function chaEmo with inputs s, specific word, respective emoticon\n",
    "        chaEmo(s,\"grin\",\":D\")\n",
    "        chaEmo(s,\"sad\",\":((\")\n",
    "        chaEmo(s,\"mad\",\">:(\")\n",
    "        chaEmo(s,\"lmao\",\"XD\")\n",
    "    s = \" \".join(s) #converts the list back into a string with spaces in between the words\n",
    "    print(\"\\n\",s) #prints \n",
    "\n",
    "def chaEmo(s,word,emoticon): #generalized function that changes the values\n",
    "    try: #tries the following function and excepts an error if it occurs\n",
    "        il = s.index(word) #set il as the index with word from s\n",
    "        s.remove(word) #remove word from s\n",
    "        s.insert(il,emoticon)  #insert [corresponding emoticon] to s on index il\n",
    "        return s #returns the value to s\n",
    "    except: #there's an error where the statements above tries to find a non-existent value, this try-except statement will cancel that error from happening \n",
    "        pass\n",
    "\n",
    "#starts main function\n",
    "s = str(input(\"Enter a sentence: \")) #sets the input string to s\n",
    "emotify(s) #calls function emotify with input s"
   ]
  },
  {
   "cell_type": "markdown",
   "id": "1314b194-89b1-4157-a751-85c6be3bc9f6",
   "metadata": {},
   "source": [
    "**Unpacking List Problem**"
   ]
  },
  {
   "cell_type": "code",
   "execution_count": null,
   "id": "7f0a5ec6-2b9e-4242-bf98-b8727df08bb9",
   "metadata": {},
   "outputs": [],
   "source": []
  }
 ],
 "metadata": {
  "kernelspec": {
   "display_name": "Python 3 (ipykernel)",
   "language": "python",
   "name": "python3"
  },
  "language_info": {
   "codemirror_mode": {
    "name": "ipython",
    "version": 3
   },
   "file_extension": ".py",
   "mimetype": "text/x-python",
   "name": "python",
   "nbconvert_exporter": "python",
   "pygments_lexer": "ipython3",
   "version": "3.12.4"
  }
 },
 "nbformat": 4,
 "nbformat_minor": 5
}
